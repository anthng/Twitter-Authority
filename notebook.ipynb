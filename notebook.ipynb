{
  "cells": [
    {
      "cell_type": "code",
      "metadata": {
        "id": "ehxfuJUan9yT",
        "colab_type": "code",
        "colab": {
          "base_uri": "https://localhost:8080/",
          "height": 419
        },
        "outputId": "b148ccab-f884-441e-a398-3dc121d3189d"
      },
      "source": [
        "!pip install bert-for-tf2\n",
        "#!pip install tf-nightly\n",
        "import tensorflow_hub as hub\n",
        "import tensorflow as tf\n",
        "import bert\n",
        "from bert import bert_tokenization\n",
        "from tensorflow.keras import layers\n",
        "\n",
        "FullTokenizer = bert.bert_tokenization.FullTokenizer\n",
        "import math"
      ],
      "execution_count": 2,
      "outputs": [
        {
          "output_type": "stream",
          "text": [
            "Collecting bert-for-tf2\n",
            "\u001b[?25l  Downloading https://files.pythonhosted.org/packages/35/5c/6439134ecd17b33fe0396fb0b7d6ce3c5a120c42a4516ba0e9a2d6e43b25/bert-for-tf2-0.14.4.tar.gz (40kB)\n",
            "\r\u001b[K     |████████                        | 10kB 17.7MB/s eta 0:00:01\r\u001b[K     |████████████████▏               | 20kB 1.7MB/s eta 0:00:01\r\u001b[K     |████████████████████████▎       | 30kB 2.2MB/s eta 0:00:01\r\u001b[K     |████████████████████████████████| 40kB 1.8MB/s \n",
            "\u001b[?25hCollecting py-params>=0.9.6\n",
            "  Downloading https://files.pythonhosted.org/packages/a4/bf/c1c70d5315a8677310ea10a41cfc41c5970d9b37c31f9c90d4ab98021fd1/py-params-0.9.7.tar.gz\n",
            "Collecting params-flow>=0.8.0\n",
            "  Downloading https://files.pythonhosted.org/packages/a9/95/ff49f5ebd501f142a6f0aaf42bcfd1c192dc54909d1d9eb84ab031d46056/params-flow-0.8.2.tar.gz\n",
            "Requirement already satisfied: numpy in /usr/local/lib/python3.6/dist-packages (from params-flow>=0.8.0->bert-for-tf2) (1.18.5)\n",
            "Requirement already satisfied: tqdm in /usr/local/lib/python3.6/dist-packages (from params-flow>=0.8.0->bert-for-tf2) (4.41.1)\n",
            "Building wheels for collected packages: bert-for-tf2, py-params, params-flow\n",
            "  Building wheel for bert-for-tf2 (setup.py) ... \u001b[?25l\u001b[?25hdone\n",
            "  Created wheel for bert-for-tf2: filename=bert_for_tf2-0.14.4-cp36-none-any.whl size=30114 sha256=c8815685412dd1ed1d507d9fca4e8b11ce3a14a5540272bf2b6af29441627729\n",
            "  Stored in directory: /root/.cache/pip/wheels/cf/3f/4d/79d7735015a5f523648df90d871ce8e89a7df8185f7703eeab\n",
            "  Building wheel for py-params (setup.py) ... \u001b[?25l\u001b[?25hdone\n",
            "  Created wheel for py-params: filename=py_params-0.9.7-cp36-none-any.whl size=7302 sha256=152f2f2571bcf76fcc2148653b041dd41424aa5b049a285a6afee32ab8de247f\n",
            "  Stored in directory: /root/.cache/pip/wheels/67/f5/19/b461849a50aefdf4bab47c4756596e82ee2118b8278e5a1980\n",
            "  Building wheel for params-flow (setup.py) ... \u001b[?25l\u001b[?25hdone\n",
            "  Created wheel for params-flow: filename=params_flow-0.8.2-cp36-none-any.whl size=19473 sha256=229e78e97dd5209dcb7f6bc2582fe0e53d507594a2cc995004bc65845ca5f717\n",
            "  Stored in directory: /root/.cache/pip/wheels/08/c8/7f/81c86b9ff2b86e2c477e3914175be03e679e596067dc630c06\n",
            "Successfully built bert-for-tf2 py-params params-flow\n",
            "Installing collected packages: py-params, params-flow, bert-for-tf2\n",
            "Successfully installed bert-for-tf2-0.14.4 params-flow-0.8.2 py-params-0.9.7\n"
          ],
          "name": "stdout"
        }
      ]
    },
    {
      "cell_type": "code",
      "metadata": {
        "id": "n1WSmpsw_Bjv",
        "colab_type": "code",
        "colab": {}
      },
      "source": [
        "import bert\n",
        "import tensorflow as tf\n",
        "import tensorflow_hub as hub\n",
        "from tensorflow.keras.optimizers import Adam\n",
        "from tensorflow.keras.callbacks import ModelCheckpoint, TensorBoard\n",
        "\n",
        "from tensorflow.keras import backend as K"
      ],
      "execution_count": 3,
      "outputs": []
    },
    {
      "cell_type": "code",
      "metadata": {
        "id": "8oWSPjznpZ3z",
        "colab_type": "code",
        "colab": {}
      },
      "source": [
        "import pandas as pd\n",
        "import numpy as np\n",
        "\n",
        "from sklearn.model_selection import train_test_split\n",
        "from sklearn.metrics import classification_report\n",
        "from sklearn.utils import class_weight\n",
        "\n",
        "df = pd.read_csv('./data/clean_train.csv', index_col = False)\n",
        "df.dropna(inplace = True)\n",
        "df.reset_index(drop=True,inplace=True)"
      ],
      "execution_count": 5,
      "outputs": []
    },
    {
      "cell_type": "code",
      "metadata": {
        "id": "APSTQ8cNRYAD",
        "colab_type": "code",
        "colab": {
          "base_uri": "https://localhost:8080/",
          "height": 35
        },
        "outputId": "fe8b8b4f-59ab-43e2-87fb-a3368d04972b"
      },
      "source": [
        "X_data = df['text'].to_numpy()\n",
        "y_data = df['target'].to_numpy()\n",
        "y_data = y_data.reshape(-1, 1)\n",
        "\n",
        "X_train, X_test, y_train, y_test = train_test_split(X_data, y_data, test_size=0.2, random_state=777)\n",
        "class_weights = class_weight.compute_class_weight('balanced', np.unique(df['target'].to_numpy()), df['target'].to_numpy())\n",
        "class_weights = dict(enumerate(class_weights))\n",
        "print(class_weights)"
      ],
      "execution_count": 6,
      "outputs": [
        {
          "output_type": "stream",
          "text": [
            "{0: 1.086939150585321, 1: 0.9259385317041625}\n"
          ],
          "name": "stdout"
        }
      ]
    },
    {
      "cell_type": "code",
      "metadata": {
        "id": "eSEAd6MG7b_o",
        "colab_type": "code",
        "colab": {}
      },
      "source": [
        "MAX_SEQ_LEN = 65"
      ],
      "execution_count": 7,
      "outputs": []
    },
    {
      "cell_type": "code",
      "metadata": {
        "id": "zCRVIOPUQyhk",
        "colab_type": "code",
        "colab": {}
      },
      "source": [
        "def bert_encode(texts, tokenizer, sequence_length=512):\n",
        "    all_tokens = []\n",
        "    all_masks = []\n",
        "    all_segments = []\n",
        "\n",
        "    for text in texts:\n",
        "        try:\n",
        "            #print(text) #Our Deeds are the Reason of this #earthquake May ALLAH Forgive us all\n",
        "            text = tokenizer.tokenize(text)\n",
        "            #print(text) #['our', 'deeds', 'are', 'the', 'reason', 'of', 'this', '#', 'earthquake', 'may', 'allah', 'forgive', 'us', 'all']\n",
        "            #print(len(text)) #14\n",
        "            text = text[:sequence_length-2]\n",
        "            #print(len(text)) #14\n",
        "            #print(text) #['our', 'deeds', 'are', 'the', 'reason', 'of', 'this', '#', 'earthquake', 'may', 'allah', 'forgive', 'us', 'all']\n",
        "            input_sequence = [\"[CLS]\"] + text + [\"[SEP]\"]\n",
        "            #print(input_sequence) #['[CLS]', 'our', 'deeds', 'are', 'the', 'reason', 'of', 'this', '#', 'earthquake', 'may', 'allah', 'forgive', 'us', 'all', '[SEP]']\n",
        "            #print(len(input_sequence)) #16\n",
        "            pad_len = sequence_length - len(input_sequence)\n",
        "            tokens = tokenizer.convert_tokens_to_ids(input_sequence)\n",
        "            #print(tokens) #[101, 2256, 15616, 2024, 1996, 3114, 1997, 2023, 1001, 8372, 2089, 16455, 9641, 2149, 2035, 102]\n",
        "            #print(len(tokens)) #16\n",
        "            tokens += [0] * pad_len\n",
        "            #print(tokens) #[101, 2256, 15616, 2024, 1996, 3114, 1997, 2023, 1001, 8372, 2089, 16455, 9641, 2149, 2035, 102, 0, 0, 0, 0, 0, 0, 0, 0, 0, 0, 0, 0, 0, 0, 0, 0, 0, 0, 0, 0, 0, 0, 0, 0, 0, 0, 0, 0, 0, 0, 0, 0, 0, 0, 0, 0, 0, 0, 0, 0, 0, 0, 0, 0, 0, 0, 0, 0, 0, 0, 0, 0, 0, 0, 0, 0, 0, 0, 0, 0, 0, 0, 0, 0, 0, 0, 0, 0, 0, 0, 0, 0, 0, 0, 0, 0, 0, 0, 0, 0, 0, 0, 0, 0, 0, 0, 0, 0, 0, 0, 0, 0, 0, 0, 0, 0, 0, 0, 0, 0, 0, 0, 0, 0, 0, 0, 0, 0, 0, 0, 0, 0, 0, 0, 0, 0, 0, 0, 0, 0, 0, 0, 0, 0, 0, 0, 0, 0, 0, 0, 0, 0, 0, 0, 0, 0, 0, 0, 0, 0, 0, 0, 0, 0]\n",
        "            #print(len(tokens)) #160\n",
        "            pad_masks = [1] * len(input_sequence) + [0] * pad_len\n",
        "            #print(pad_masks) #[1, 1, 1, 1, 1, 1, 1, 1, 1, 1, 1, 1, 1, 1, 1, 1, 0, 0, 0, 0, 0, 0, 0, 0, 0, 0, 0, 0, 0, 0, 0, 0, 0, 0, 0, 0, 0, 0, 0, 0, 0, 0, 0, 0, 0, 0, 0, 0, 0, 0, 0, 0, 0, 0, 0, 0, 0, 0, 0, 0, 0, 0, 0, 0, 0, 0, 0, 0, 0, 0, 0, 0, 0, 0, 0, 0, 0, 0, 0, 0, 0, 0, 0, 0, 0, 0, 0, 0, 0, 0, 0, 0, 0, 0, 0, 0, 0, 0, 0, 0, 0, 0, 0, 0, 0, 0, 0, 0, 0, 0, 0, 0, 0, 0, 0, 0, 0, 0, 0, 0, 0, 0, 0, 0, 0, 0, 0, 0, 0, 0, 0, 0, 0, 0, 0, 0, 0, 0, 0, 0, 0, 0, 0, 0, 0, 0, 0, 0, 0, 0, 0, 0, 0, 0, 0, 0, 0, 0, 0, 0]\n",
        "            #print(len(pad_masks)) #160\n",
        "            segment_ids = [0] * sequence_length\n",
        "            #print(segment_ids) #[0, 0, 0, 0, 0, 0, 0, 0, 0, 0, 0, 0, 0, 0, 0, 0, 0, 0, 0, 0, 0, 0, 0, 0, 0, 0, 0, 0, 0, 0, 0, 0, 0, 0, 0, 0, 0, 0, 0, 0, 0, 0, 0, 0, 0, 0, 0, 0, 0, 0, 0, 0, 0, 0, 0, 0, 0, 0, 0, 0, 0, 0, 0, 0, 0, 0, 0, 0, 0, 0, 0, 0, 0, 0, 0, 0, 0, 0, 0, 0, 0, 0, 0, 0, 0, 0, 0, 0, 0, 0, 0, 0, 0, 0, 0, 0, 0, 0, 0, 0, 0, 0, 0, 0, 0, 0, 0, 0, 0, 0, 0, 0, 0, 0, 0, 0, 0, 0, 0, 0, 0, 0, 0, 0, 0, 0, 0, 0, 0, 0, 0, 0, 0, 0, 0, 0, 0, 0, 0, 0, 0, 0, 0, 0, 0, 0, 0, 0, 0, 0, 0, 0, 0, 0, 0, 0, 0, 0, 0, 0]\n",
        "            #print(len(segment_ids)) #160\n",
        "\n",
        "            all_tokens.append(tokens)\n",
        "            all_masks.append(pad_masks)\n",
        "            all_segments.append(segment_ids)\n",
        "        except:\n",
        "            print(text)\n",
        "            return 0\n",
        "\n",
        "    return [np.array(all_tokens, dtype=np.int32), np.array(all_masks, dtype=np.int32), np.array(all_segments, dtype=np.int32)]"
      ],
      "execution_count": 8,
      "outputs": []
    },
    {
      "cell_type": "code",
      "metadata": {
        "id": "uef3ysDY-5WL",
        "colab_type": "code",
        "colab": {}
      },
      "source": [
        "base_model = hub.load('https://tfhub.dev/tensorflow/bert_en_uncased_L-24_H-1024_A-16/1')\n",
        "\n",
        "\n",
        "bert_layer = hub.KerasLayer(base_model)\n",
        "\n",
        "vocab_file = bert_layer.resolved_object.vocab_file.asset_path.numpy()\n",
        "do_lower_case = bert_layer.resolved_object.do_lower_case.numpy()\n",
        "tokenizer = bert_tokenization.FullTokenizer(vocab_file, do_lower_case)"
      ],
      "execution_count": 9,
      "outputs": []
    },
    {
      "cell_type": "code",
      "metadata": {
        "id": "vxz41zLdUKEO",
        "colab_type": "code",
        "colab": {}
      },
      "source": [
        "X_train_en = bert_encode(X_train, tokenizer=tokenizer, sequence_length=MAX_SEQ_LEN)\n",
        "X_test_en = bert_encode(X_test, tokenizer=tokenizer, sequence_length=MAX_SEQ_LEN)"
      ],
      "execution_count": 10,
      "outputs": []
    },
    {
      "cell_type": "code",
      "metadata": {
        "id": "Mwg79thB_Wc7",
        "colab_type": "code",
        "colab": {
          "base_uri": "https://localhost:8080/",
          "height": 780
        },
        "outputId": "e17fea9d-ab76-43da-f435-b06f63fe2313"
      },
      "source": [
        "cnn_filters = 100\n",
        "DNN_UNITS = 64\n",
        "#checkpoint_filepath = './models/cnn_rnn'\n",
        "# model_checkpoint_callback = tf.keras.callbacks.ModelCheckpoint(\n",
        "#     filepath=checkpoint_filepath,\n",
        "#     save_weights_only=True,\n",
        "#     monitor='acc',\n",
        "#     mode='max',\n",
        "#     save_best_only=True)\n",
        "\n",
        "input_word_ids = tf.keras.layers.Input(shape=(MAX_SEQ_LEN,), dtype=tf.int32,name=\"input_ids\")\n",
        "input_mask = tf.keras.layers.Input(shape=(MAX_SEQ_LEN,), dtype=tf.int32,name=\"input_masks\")\n",
        "input_segment = tf.keras.layers.Input(shape=(MAX_SEQ_LEN,), dtype=tf.int32,name=\"segment_ids\")\n",
        "pooled_output, sequence_output = bert_layer([input_word_ids, input_mask, input_segment])\n",
        "\n",
        "\n",
        "\n",
        "cnn_l1 =  tf.keras.layers.Conv1D(filters=cnn_filters,kernel_size=2,padding=\"same\",activation=\"relu\")(sequence_output)\n",
        "lstm1 = tf.keras.layers.LSTM(32, return_state= False)(cnn_l1)\n",
        "flat1 = tf.keras.layers.Flatten()(lstm1)\n",
        "\n",
        "cnn_l2 = tf.keras.layers.Conv1D(filters=cnn_filters,kernel_size=3,padding=\"same\",activation=\"relu\")(sequence_output)\n",
        "lstm2 = tf.keras.layers.LSTM(32, return_state= False)(cnn_l2)\n",
        "flat2 = tf.keras.layers.Flatten()(lstm2)\n",
        "\n",
        "cnn_l3 = tf.keras.layers.Conv1D(filters=cnn_filters, kernel_size=4,padding=\"same\",activation=\"relu\")(sequence_output)\n",
        "lstm3 = tf.keras.layers.LSTM(32, return_state= False)(cnn_l3)\n",
        "flat3 = tf.keras.layers.Flatten()(lstm3)\n",
        "\n",
        "concat = tf.concat([flat1, flat2, flat3], axis=-1)\n",
        "dense_1 = tf.keras.layers.Dense(units=DNN_UNITS, activation=\"relu\")(concat)\n",
        "\n",
        "\n",
        "pred = tf.keras.layers.Dense(1, activation='sigmoid')(dense_1)\n",
        "\n",
        "model = tf.keras.models.Model(inputs=[input_word_ids,input_mask,input_segment], outputs=pred)\n",
        "model.compile(loss='binary_crossentropy', optimizer='adam', metrics=['accuracy'])\n",
        "model.summary()"
      ],
      "execution_count": 11,
      "outputs": [
        {
          "output_type": "stream",
          "text": [
            "Model: \"model\"\n",
            "__________________________________________________________________________________________________\n",
            "Layer (type)                    Output Shape         Param #     Connected to                     \n",
            "==================================================================================================\n",
            "input_ids (InputLayer)          [(None, 65)]         0                                            \n",
            "__________________________________________________________________________________________________\n",
            "input_masks (InputLayer)        [(None, 65)]         0                                            \n",
            "__________________________________________________________________________________________________\n",
            "segment_ids (InputLayer)        [(None, 65)]         0                                            \n",
            "__________________________________________________________________________________________________\n",
            "keras_layer (KerasLayer)        [(None, 1024), (None 335141889   input_ids[0][0]                  \n",
            "                                                                 input_masks[0][0]                \n",
            "                                                                 segment_ids[0][0]                \n",
            "__________________________________________________________________________________________________\n",
            "conv1d (Conv1D)                 (None, None, 100)    204900      keras_layer[0][1]                \n",
            "__________________________________________________________________________________________________\n",
            "conv1d_1 (Conv1D)               (None, None, 100)    307300      keras_layer[0][1]                \n",
            "__________________________________________________________________________________________________\n",
            "conv1d_2 (Conv1D)               (None, None, 100)    409700      keras_layer[0][1]                \n",
            "__________________________________________________________________________________________________\n",
            "lstm (LSTM)                     (None, 32)           17024       conv1d[0][0]                     \n",
            "__________________________________________________________________________________________________\n",
            "lstm_1 (LSTM)                   (None, 32)           17024       conv1d_1[0][0]                   \n",
            "__________________________________________________________________________________________________\n",
            "lstm_2 (LSTM)                   (None, 32)           17024       conv1d_2[0][0]                   \n",
            "__________________________________________________________________________________________________\n",
            "flatten (Flatten)               (None, 32)           0           lstm[0][0]                       \n",
            "__________________________________________________________________________________________________\n",
            "flatten_1 (Flatten)             (None, 32)           0           lstm_1[0][0]                     \n",
            "__________________________________________________________________________________________________\n",
            "flatten_2 (Flatten)             (None, 32)           0           lstm_2[0][0]                     \n",
            "__________________________________________________________________________________________________\n",
            "tf_op_layer_concat (TensorFlowO [(None, 96)]         0           flatten[0][0]                    \n",
            "                                                                 flatten_1[0][0]                  \n",
            "                                                                 flatten_2[0][0]                  \n",
            "__________________________________________________________________________________________________\n",
            "dense (Dense)                   (None, 64)           6208        tf_op_layer_concat[0][0]         \n",
            "__________________________________________________________________________________________________\n",
            "dense_1 (Dense)                 (None, 1)            65          dense[0][0]                      \n",
            "==================================================================================================\n",
            "Total params: 336,121,134\n",
            "Trainable params: 979,245\n",
            "Non-trainable params: 335,141,889\n",
            "__________________________________________________________________________________________________\n"
          ],
          "name": "stdout"
        }
      ]
    },
    {
      "cell_type": "code",
      "metadata": {
        "id": "9RQiFwDvQExZ",
        "colab_type": "code",
        "colab": {
          "base_uri": "https://localhost:8080/",
          "height": 758
        },
        "outputId": "c88a926c-df85-4740-90bb-80c81c9e4a5d"
      },
      "source": [
        "tf.keras.utils.plot_model(model)"
      ],
      "execution_count": 13,
      "outputs": [
        {
          "output_type": "execute_result",
          "data": {
            "image/png": "[encoded data removed]",
            "text/plain": [
              "<IPython.core.display.Image object>"
            ]
          },
          "metadata": {
            "tags": []
          },
          "execution_count": 13
        }
      ]
    },
    {
      "cell_type": "code",
      "metadata": {
        "id": "5iFFlHXh-6zT",
        "colab_type": "code",
        "colab": {
          "base_uri": "https://localhost:8080/",
          "height": 104
        },
        "outputId": "5eafcc39-2a86-452e-aabf-3ae8ccf50406"
      },
      "source": [
        "model.fit(X_train_en, y_train, class_weight = class_weights, epochs=2, batch_size=32)"
      ],
      "execution_count": 14,
      "outputs": [
        {
          "output_type": "stream",
          "text": [
            "Epoch 1/2\n",
            "1361/1361 [==============================] - 1225s 900ms/step - loss: 0.5593 - accuracy: 0.7081\n",
            "Epoch 2/2\n",
            "1361/1361 [==============================] - 1225s 900ms/step - loss: 0.5078 - accuracy: 0.7421\n"
          ],
          "name": "stdout"
        },
        {
          "output_type": "execute_result",
          "data": {
            "text/plain": [
              "<tensorflow.python.keras.callbacks.History at 0x7f35b1afa128>"
            ]
          },
          "metadata": {
            "tags": []
          },
          "execution_count": 14
        }
      ]
    },
    {
      "cell_type": "code",
      "metadata": {
        "id": "7PxQESh1pyGv",
        "colab_type": "code",
        "colab": {
          "base_uri": "https://localhost:8080/",
          "height": 225
        },
        "outputId": "3ac251af-24a6-45a3-cb19-d729de95123c"
      },
      "source": [
        "%%time\n",
        "y_prob = model.predict(X_test_en, verbose = 1)\n",
        "y_pred = (y_prob > 0.5).astype(int)\n",
        "print(classification_report(y_test, y_pred, digits = 4))"
      ],
      "execution_count": 15,
      "outputs": [
        {
          "output_type": "stream",
          "text": [
            "341/341 [==============================] - 298s 875ms/step\n",
            "              precision    recall  f1-score   support\n",
            "\n",
            "           0     0.7030    0.8026    0.7495      5020\n",
            "           1     0.8076    0.7097    0.7555      5862\n",
            "\n",
            "    accuracy                         0.7525     10882\n",
            "   macro avg     0.7553    0.7561    0.7525     10882\n",
            "weighted avg     0.7594    0.7525    0.7527     10882\n",
            "\n",
            "CPU times: user 3min 37s, sys: 1min 57s, total: 5min 34s\n",
            "Wall time: 5min 3s\n"
          ],
          "name": "stdout"
        }
      ]
    },
    {
      "cell_type": "code",
      "metadata": {
        "id": "9wRQcTiSDcV6",
        "colab_type": "code",
        "colab": {
          "base_uri": "https://localhost:8080/",
          "height": 337
        },
        "outputId": "d72aea8d-02ec-4019-d738-6b3468f0baeb"
      },
      "source": [
        "from sklearn.metrics import confusion_matrix\n",
        "import seaborn as sns\n",
        "cm = confusion_matrix(y_test, y_pred)\n",
        "sns.heatmap(cm/np.sum(cm), annot=True, cmap='Blues')"
      ],
      "execution_count": 16,
      "outputs": [
        {
          "output_type": "stream",
          "text": [
            "/usr/local/lib/python3.6/dist-packages/statsmodels/tools/_testing.py:19: FutureWarning: pandas.util.testing is deprecated. Use the functions in the public API at pandas.testing instead.\n",
            "  import pandas.util.testing as tm\n"
          ],
          "name": "stderr"
        },
        {
          "output_type": "execute_result",
          "data": {
            "text/plain": [
              "<matplotlib.axes._subplots.AxesSubplot at 0x7f35aec215f8>"
            ]
          },
          "metadata": {
            "tags": []
          },
          "execution_count": 16
        },
        {
          "output_type": "display_data",
          "data": {
            "image/png": "[encoded data removed]",
            "text/plain": [
              "<Figure size 432x288 with 2 Axes>"
            ]
          },
          "metadata": {
            "tags": [],
            "needs_background": "light"
          }
        }
      ]
    },
    {
      "cell_type": "code",
      "metadata": {
        "id": "g0nIaa00NBBf",
        "colab_type": "code",
        "colab": {
          "base_uri": "https://localhost:8080/",
          "height": 176
        },
        "outputId": "1951ca89-55e3-4ef5-d501-8bfba9aeb4b1"
      },
      "source": [
        "model.save('./models/cnn_rnn')"
      ],
      "execution_count": 17,
      "outputs": [
        {
          "output_type": "stream",
          "text": [
            "WARNING:tensorflow:From /usr/local/lib/python3.6/dist-packages/tensorflow/python/ops/resource_variable_ops.py:1817: calling BaseResourceVariable.__init__ (from tensorflow.python.ops.resource_variable_ops) with constraint is deprecated and will be removed in a future version.\n",
            "Instructions for updating:\n",
            "If using Keras pass *_constraint arguments to layers.\n"
          ],
          "name": "stdout"
        },
        {
          "output_type": "stream",
          "text": [
            "WARNING:tensorflow:From /usr/local/lib/python3.6/dist-packages/tensorflow/python/ops/resource_variable_ops.py:1817: calling BaseResourceVariable.__init__ (from tensorflow.python.ops.resource_variable_ops) with constraint is deprecated and will be removed in a future version.\n",
            "Instructions for updating:\n",
            "If using Keras pass *_constraint arguments to layers.\n"
          ],
          "name": "stderr"
        },
        {
          "output_type": "stream",
          "text": [
            "INFO:tensorflow:Assets written to: ./models/cnn_rnn/assets\n"
          ],
          "name": "stdout"
        },
        {
          "output_type": "stream",
          "text": [
            "INFO:tensorflow:Assets written to: ./models/cnn_rnn/assets\n"
          ],
          "name": "stderr"
        }
      ]
    },
    {
      "cell_type": "markdown",
      "metadata": {
        "id": "nrXAw__8a0IR",
        "colab_type": "text"
      },
      "source": [
        "# Submit"
      ]
    },
    {
      "cell_type": "code",
      "metadata": {
        "id": "TILQlrFRObvZ",
        "colab_type": "code",
        "colab": {}
      },
      "source": [
        "new_model = tf.keras.models.load_model('./models/rnn')"
      ],
      "execution_count": null,
      "outputs": []
    },
    {
      "cell_type": "code",
      "metadata": {
        "id": "nIYjVENSfZR5",
        "colab_type": "code",
        "colab": {}
      },
      "source": [
        "df = pd.read_csv('./data/test_clean.csv', index_col = False)\n",
        "df['text'] = df['text'].fillna(\"\")"
      ],
      "execution_count": null,
      "outputs": []
    },
    {
      "cell_type": "code",
      "metadata": {
        "id": "-DpdmXVKg5Zn",
        "colab_type": "code",
        "colab": {}
      },
      "source": [
        "X_data = df['text'].to_numpy()\n",
        "X_data_en = bert_encode(X_data, tokenizer=tokenizer, sequence_length=80)"
      ],
      "execution_count": null,
      "outputs": []
    },
    {
      "cell_type": "code",
      "metadata": {
        "id": "VkzWzuc0f3bh",
        "colab_type": "code",
        "colab": {
          "base_uri": "https://localhost:8080/",
          "height": 52
        },
        "outputId": "415a55dd-5695-47e0-8131-083d5b5543f3"
      },
      "source": [
        "%%time\n",
        "\n",
        "y_prob = model.predict(X_data_en, verbose = 1)\n",
        "y_pred = (y_prob > 0.5).astype(int)"
      ],
      "execution_count": null,
      "outputs": [
        {
          "output_type": "stream",
          "text": [
            "CPU times: user 4min 6s, sys: 3min 22s, total: 7min 29s\n",
            "Wall time: 19min 12s\n"
          ],
          "name": "stdout"
        }
      ]
    },
    {
      "cell_type": "code",
      "metadata": {
        "id": "VIbfyazZkJqR",
        "colab_type": "code",
        "colab": {}
      },
      "source": [
        "submission = pd.read_csv('./data/sample_submit.csv', index_col = False)\n",
        "\n",
        "submission[\"target\"] = y_pred"
      ],
      "execution_count": null,
      "outputs": []
    },
    {
      "cell_type": "code",
      "metadata": {
        "id": "-eYPu-0Djk9Y",
        "colab_type": "code",
        "colab": {}
      },
      "source": [
        "submission.to_csv(\"./results/result1.csv\", index = False)\n",
        "submission.head(10)"
      ],
      "execution_count": null,
      "outputs": []
    }
  ],
  "metadata": {
    "colab": {
      "name": "MODEL.ipynb",
      "provenance": [],
      "collapsed_sections": []
    },
    "kernelspec": {
      "name": "python3",
      "display_name": "Python 3"
    },
    "accelerator": "GPU"
  },
  "nbformat": 4,
  "nbformat_minor": 0
}